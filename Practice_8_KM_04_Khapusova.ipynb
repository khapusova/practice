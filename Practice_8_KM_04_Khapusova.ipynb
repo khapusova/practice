{
  "nbformat": 4,
  "nbformat_minor": 0,
  "metadata": {
    "colab": {
      "name": "Practice_7_KM-01_.ipynb",
      "provenance": [],
      "collapsed_sections": []
    },
    "kernelspec": {
      "name": "python3",
      "display_name": "Python 3.8.5 32-bit",
      "metadata": {
        "interpreter": {
          "hash": "6d58817d7a36abfa3a827e4c983e24a2b2aeec7ad475bf8b9406aeab7b3302d2"
        }
      }
    }
  },
  "cells": [
    {
      "cell_type": "markdown",
      "metadata": {
        "id": "FMqboNwO4rVs"
      },
      "source": [
        "# **Курс \"Програмування на мові Python\"**\n",
        "\n",
        "##### Викладачі:\n",
        "##### Борисенко Павло Борисович\n",
        "##### Щьоголєв Максим Олегович\n"
      ]
    },
    {
      "cell_type": "markdown",
      "metadata": {
        "id": "A2T6MigL5Z06"
      },
      "source": [
        "## **Практичне зайняття №8**\n",
        "\n",
        "### Тема: \"Робота з функціями. Локальні та глобальні змінні\""
      ]
    },
    {
      "cell_type": "markdown",
      "metadata": {
        "id": "cfCdgK2zXm7e"
      },
      "source": [
        "### **Завдання 1 (3 бали)**\n",
        "\n",
        "**Підрахувати визначник матриці, використовуючи правило перестановок.**\n",
        "\n",
        "Функція random_matrix() призначена для створення квадратної матриці випадкових чисел. Її змінювати непотрібно.\n",
        "\n",
        "Приклад використання методу permutations() для створення списку перестановок також подається у комірці з кодом.\n",
        "\n",
        "1) Створити 3 функції: функцію створення списку перестановок, функцію підрахунку добутків та функцію підрахунку загальної суми.\n",
        "\n",
        "2) Кожна функція має супроводжуватись рядком документації, що буде коротко описувати її призначення.\n",
        "\n",
        "3) Розмірність квадратної матриці має вводитись користувачем з клавіатури. Підрахунки виконувати лише в тому разі, якщо користувач введе ціле додатне число.\n",
        "\n",
        "4) Загальний результат повинен підраховуватись за допомогою композиції функцій.\n",
        "\n",
        "За бажання можна перевірити правильність роботи програми за допомогою функції np.linalg.det(a)."
      ]
    },
    {
      "cell_type": "code",
      "metadata": {
        "id": "ifNX2M7LXm7f"
      },
      "source": [
        "import numpy as np\n",
        "import itertools\n",
        "# определяет один из параметров для вычисления списка перестановок\n",
        "def stroka(dim):\n",
        "    k = str()\n",
        "    # В данном цикле вычисляются данные, необходимые для шаблона t = list(itertools.permutations('123', 3))\n",
        "    for i in range(1, dim + 1, 1):\n",
        "        i1 = str(i)\n",
        "        k += i1\n",
        "    return k\n",
        "# Вычисляет произведение соответствующих элементов без знака\n",
        "def multwithout(n):\n",
        "    mult = 1\n",
        "    for o in range(0, klength):\n",
        "        mult *= A[o][int((n[o])) - 1]\n",
        "    return mult\n",
        "# Вычисляет знак, который будет множиться на соответсвующее произведение перестановки\n",
        "def znak(n):\n",
        "    z = 0\n",
        "    n1 = list(n)\n",
        "    for c in n:\n",
        "        a = int(c)\n",
        "        n1.remove(c)\n",
        "        for c1 in n1:\n",
        "            if a > int(c1):\n",
        "                z += 1\n",
        "    if z%2 == 0:\n",
        "        return 1\n",
        "    else:\n",
        "        return -1\n",
        "# Вычисляет непосредственно определитель, суммируя все произведения\n",
        "def summa(t):\n",
        "    s = 0\n",
        "    for n in t:\n",
        "        s+=multwithout(n)*znak(n)\n",
        "    return s\n",
        "def random_matrix(dim):\n",
        "    \"\"\"\n",
        "    The function generates dim x dim array of integers\n",
        "    between 0 and 10.\n",
        "    \"\"\"\n",
        "    matrix = np.random.randint(10, size = (dim, dim))\n",
        "    return matrix\n",
        "dim = input('Введіть розмірність матриці:')\n",
        "try:\n",
        "    dim = int(dim)\n",
        "    if dim<0:\n",
        "        raise ValueError\n",
        "    klength = len(stroka(dim))\n",
        "    # t = n! каждый элемент - тапл (все возможные перестановки)\n",
        "    t = list(itertools.permutations(stroka(dim), klength))\n",
        "    A = random_matrix(dim)\n",
        "\n",
        "    print('Визначник дорівнює: ', summa(t))\n",
        "except ValueError:\n",
        "    print('Помилка! Розмірність має бути цілим додатнім числом.')"
      ],
      "execution_count": 5,
      "outputs": [
        {
          "output_type": "stream",
          "name": "stdout",
          "text": [
            "Визначник дорівнює:  -2015\n"
          ]
        }
      ]
    },
    {
      "cell_type": "code",
      "execution_count": null,
      "metadata": {},
      "outputs": [],
      "source": []
    }
  ]
}