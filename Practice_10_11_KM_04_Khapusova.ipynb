{
  "nbformat": 4,
  "nbformat_minor": 0,
  "metadata": {
    "colab": {
      "name": "Practice_10-11_KM_01_.ipynb",
      "provenance": [],
      "collapsed_sections": []
    },
    "kernelspec": {
      "name": "python3",
      "display_name": "Python 3.8.5 32-bit",
      "metadata": {
        "interpreter": {
          "hash": "6d58817d7a36abfa3a827e4c983e24a2b2aeec7ad475bf8b9406aeab7b3302d2"
        }
      }
    }
  },
  "cells": [
    {
      "cell_type": "markdown",
      "metadata": {
        "id": "FMqboNwO4rVs"
      },
      "source": [
        "# **Курс \"Програмування на мові Python\"**\n",
        "\n",
        "##### Викладачі:\n",
        "##### Борисенко Павло Борисович\n",
        "##### Щьоголєв Максим Олегович\n"
      ]
    },
    {
      "cell_type": "markdown",
      "metadata": {
        "id": "A2T6MigL5Z06"
      },
      "source": [
        "## **Практичні зайняття №10-11**\n",
        "\n",
        "### Тема: \"Ітератори та генератори. Декоратори\""
      ]
    },
    {
      "cell_type": "markdown",
      "metadata": {
        "id": "cfCdgK2zXm7e"
      },
      "source": [
        "### **Завдання 1 (2 бали)**\n",
        "\n",
        "Розрахуйте коефієнти розкладу біному Ньютона за допомогою генератора (https://uk.wikipedia.org/wiki/%D0%91%D1%96%D0%BD%D0%BE%D0%BC_%D0%9D%D1%8C%D1%8E%D1%82%D0%BE%D0%BD%D0%B0).\n",
        "\n",
        "1. Степінь многочлена користувач має вводити з клавіатури (невід'ємне ціле число).\n",
        "\n",
        "2. Програма має підраховувати біноміальні коефіцієнти для біномів усіх степенів, починаючи від 0 і закінчуючи тим, який ввів користувач.\n",
        "\n",
        "3. Коефіцієнти мають виводитись у вигляді трикутника Паскаля.\n",
        "\n",
        "Наприклад, якщо користувач введе число 5, програма має вивести результат:\n",
        "\n",
        "1\n",
        "\n",
        "1 1\n",
        "\n",
        "1 2 1\n",
        "\n",
        "1 3 3 1\n",
        "\n",
        "1 4 6 4 1\n",
        "\n",
        "1 5 10 10 5 1\n"
      ]
    },
    {
      "cell_type": "code",
      "metadata": {
        "id": "Bku8v9CjE_Qc"
      },
      "source": [
        "def raschety(n):\n",
        "   i=[]\n",
        "   r = [1]\n",
        "   y = [0]\n",
        "\n",
        "   for x in range(n):\n",
        "      i.append(r)\n",
        "      r=[l+t for l, t in zip(r+y, y+r)]\n",
        "   for g in i:\n",
        "       for u in g:\n",
        "           g[g.index(u)]=str(u)\n",
        "       print(' '.join(g), '\\n')\n",
        "   return n>=1\n",
        "while True:\n",
        "    n = input('Enter degree: ')\n",
        "    try:\n",
        "        n = int(n)\n",
        "        if n <= 0:\n",
        "            raise Exception\n",
        "        raschety(n)\n",
        "        break\n",
        "    except Exception:\n",
        "        print('Incorrect data! Try again.')\n"
      ],
      "execution_count": 3,
      "outputs": [
        {
          "output_type": "stream",
          "name": "stdout",
          "text": [
            "1 \n\n1 1 \n\n1 2 1 \n\n1 3 3 1 \n\n1 4 6 4 1 \n\n1 5 10 10 5 1 \n\n1 6 15 20 15 6 1 \n\n"
          ]
        }
      ]
    },
    {
      "cell_type": "markdown",
      "metadata": {
        "id": "oqXwIz3iuPRe"
      },
      "source": [
        "### **Завдання 2 (4 бали)**\n",
        "\n",
        "Більшість друкованих книг (особливо це стосується книг у твердій палітурці) складаються із зошитів. Припустимо, що в друкарні текст друкується на листах паперу удвічі більших за звичайний книжковий формат. Потім ці листи складаються вдвічі, з них формуються зошити, які потім зшиваються у блок. Зшиті зошити зазвичай складаються з 8, 12 або 16 листів (відповідно 16, 24 або 32 сторінок) кожен.\n",
        "\n",
        "Розглянемо конкретний приклад. \n",
        "\n",
        "Припустимо, що кожен зшитий зошит нашої книги складається з 8 листів (16 сторінок). Якщо уявити великі листи, з яких потім складаються зошити, то на кожному таком листі буде по 4 сторінки книги. У нашій книзі таких великих листів буде 4. Розглянемо перший лист. З одного боку на ньому будуть надруковані сторінки 16 та 1, з іншого - 2 та 15. На другому листі з одного боку будуть надруковані сторінки 14 та 3, з іншого - 4 та 13.\n",
        "\n",
        "**Написати програму, яка визначатиме послідовність сторінок, що будуть надруковані на кожному великому листі.**\n",
        "\n",
        "1. Користувач має вводити з клавіатури три значення: кількість сторінок у книзі (не більше 1280), кількість сторінок у кожному зошиті цієї книги (потрібно буде обрати один з трьох варіантів: 16, 24 або 32) та параметр 0 або 1 (пояснення у п. 5).\n",
        "\n",
        "2. Зверніть увагу на те, що загальна кількість сторінок у книзі має бути кратною кількості сторінок у зошиті. Якщо користувач введе число, що не задовольняє цій умові, програма повинна припинити роботу або запропонувати користувачеві ввесте інше значення. Зауважте також, що 1280 не ділиться на 24.\n",
        "\n",
        "3. Зверніть увагу на те, що на великих листах поворот аркуша відбувається за коротким краєм. Отже, якщо з одного боку аркуша надруковано сторінки 16 та 1, то з іншого 2 та 15 (а не 15, 2), якщо дивитись зліва направо.\n",
        "\n",
        "4. Функція, яка визначатиме послідовність книжкових сторінок, має виводити на екран рядок за рядком номери сторінок кожного зошита, а також кількість зошитів у книзі.\n",
        "\n",
        "5. Створіть функцію-декоратор, яка прийматиме на вхід параметр 0 або 1, конвертований у False або True відповідно, та навісьте його на попередню функцію. Якщо параметр дорівнює False, додаткові функції декоратора не повинні виконуватись, тобто має виконатись лише функція з п. 4. Декоратор повинен створювати список усіх сторінок у потрібній послідовності, причому номери сторінок кожного зошита мають зберігатись в окремому вкладеному списку. Для 16-сторінкового зошита список повинен мати вигляд:\n",
        "\n",
        "`[[16, 1, 2, 15, 14, 3, 4, 13, ..., 10, 7, 8, 9], [32, 17, 18, 31, ...], ... ]`\n",
        "\n",
        "**Бонусне завдання (за бажанням)**\n",
        "\n",
        "6. Замість функції з п. 4 створіть генератор, який буде визначати послідовність книжкових сторінок для кожного зошита. Ці рядки можна потім вивести або у циклі, або за допомогою функції next(). Функція-декоратор має працювати з цим генератором так само, як і зі звичайною функцією."
      ]
    },
    {
      "cell_type": "code",
      "metadata": {
        "id": "yiRr2CqMWxLA"
      },
      "source": [
        "while True:\n",
        "    stranici = input('Enter pages(It is to be divided entirely by 24 or 32 or 16) : ')\n",
        "    try:\n",
        "        stranici = int(stranici)\n",
        "        if (not 0 < stranici<= 1280) or (stranici%16!=0 and stranici%24!=0 and stranici%32!=0) :\n",
        "            raise Exception\n",
        "        break\n",
        "    except Exception:\n",
        "        print('Incorrect data! Try again.')\n",
        "while True:\n",
        "    stranici2 = input('Enter pages in notebooks(16, 24 or 32): ')\n",
        "    try:\n",
        "        stranici2 = int(stranici2)\n",
        "        if (stranici2!= 16 and stranici2!= 24 and  stranici2!= 32) or not  stranici%stranici2==0:\n",
        "            raise Exception\n",
        "        break\n",
        "    except Exception:\n",
        "        print('Incorrect data! Try again.')\n",
        "while True:\n",
        "    p5 = input('Enter parametr(0 or 1): ')\n",
        "    try:\n",
        "        if p5!='0' and p5!='1':\n",
        "            raise Exception\n",
        "        if p5=='0':\n",
        "            p5 = False\n",
        "        elif p5=='1':\n",
        "            p5 = True\n",
        "        break\n",
        "    except Exception:\n",
        "        print('Incorrect data! Try again.')\n",
        "def punkt4():\n",
        "\n",
        "    zosh = int(stranici / stranici2)\n",
        "    def spis():\n",
        "        a = [i for i in range(1, stranici + 1)]\n",
        "        return a\n",
        "\n",
        "    def spis2(a=spis()):\n",
        "        k = []\n",
        "        for m in range(0,zosh,1):\n",
        "\n",
        "            a1 = [a[i] for i in range(stranici2)]\n",
        "            k.append(a1) # список из списков\n",
        "            a = a[stranici2:] # все оставшиеся значения из которых должны выбираться ещё списка\n",
        "           # spis = список со всеми страницами\n",
        "        return k\n",
        "\n",
        "    def spis3(k=spis2()) :\n",
        "\n",
        "\n",
        "        m1 = []\n",
        "        m2 = []\n",
        "\n",
        "        for m in k:\n",
        "            y = k.index(m)\n",
        "            new = list(m)\n",
        "            for i in range(int(len(new)/4)) :\n",
        "                try:\n",
        "                    m1.append(str(m[-1]))\n",
        "                    m1.append(str(m[0]))\n",
        "                    m1.append(str(m[1]))\n",
        "                    m1.append(str(m[-2]))\n",
        "\n",
        "                    m.remove(m[-2])\n",
        "                    m.remove(m[-1])\n",
        "                    m.remove(m[1])\n",
        "                    m.remove(m[0])\n",
        "\n",
        "                except Exception:\n",
        "                    pass\n",
        "            m2.append(m1)\n",
        "            print(y+1, 'copybook : ', '  '.join(m1))\n",
        "            m1=[]\n",
        "        #return m2\n",
        "    spis3()\n",
        "    return zosh\n",
        "print('Number of copybooks : ',punkt4())\n",
        "\n",
        "def my_decorator(func):\n",
        "    def wrapper(p5):\n",
        "        if p5 ==True:\n",
        "            func()\n",
        "        else:\n",
        "            pass\n",
        "    return wrapper(p5)\n",
        "\n",
        "\n",
        "@my_decorator\n",
        "def punkt5():\n",
        "\n",
        "    zosh = int(stranici / stranici2)\n",
        "    def spis():\n",
        "        a = [i for i in range(1, stranici + 1)]\n",
        "        return a\n",
        "\n",
        "    def spis2(a=spis()):\n",
        "        k = []\n",
        "        for m in range(0,zosh,1):\n",
        "\n",
        "            a1 = [a[i] for i in range(stranici2)]\n",
        "            k.append(a1) # список из списков\n",
        "            a = a[stranici2:] # все оставшиеся значения из которых должны выбираться ещё списка\n",
        "           # spis = список со всеми страницами\n",
        "        return k\n",
        "    def spis3(k=spis2()) :\n",
        "        m1 = []\n",
        "        m2 = []\n",
        "\n",
        "        for m in k:\n",
        "            y = k.index(m)\n",
        "            new = list(m)\n",
        "            for i in range(int(len(new)/4)) :\n",
        "                try:\n",
        "                    m1.append(str(m[-1]))\n",
        "                    m1.append(str(m[0]))\n",
        "                    m1.append(str(m[1]))\n",
        "                    m1.append(str(m[-2]))\n",
        "\n",
        "                    m.remove(m[-2])\n",
        "                    m.remove(m[-1])\n",
        "                    m.remove(m[1])\n",
        "                    m.remove(m[0])\n",
        "\n",
        "                except Exception:\n",
        "                    pass\n",
        "            m2.append(m1)\n",
        "            m1=[]\n",
        "        return m2\n",
        "    print(spis3())\n",
        "    return zosh"
      ],
      "execution_count": 1,
      "outputs": [
        {
          "output_type": "stream",
          "name": "stdout",
          "text": [
            "1 copybook :  24  1  2  23  22  3  4  21  20  5  6  19  18  7  8  17  16  9  10  15  14  11  12  13\n2 copybook :  48  25  26  47  46  27  28  45  44  29  30  43  42  31  32  41  40  33  34  39  38  35  36  37\n3 copybook :  72  49  50  71  70  51  52  69  68  53  54  67  66  55  56  65  64  57  58  63  62  59  60  61\n4 copybook :  96  73  74  95  94  75  76  93  92  77  78  91  90  79  80  89  88  81  82  87  86  83  84  85\n5 copybook :  120  97  98  119  118  99  100  117  116  101  102  115  114  103  104  113  112  105  106  111  110  107  108  109\nNumber of copybooks :  5\n"
          ]
        }
      ]
    },
    {
      "cell_type": "code",
      "execution_count": null,
      "metadata": {},
      "outputs": [],
      "source": []
    }
  ]
}