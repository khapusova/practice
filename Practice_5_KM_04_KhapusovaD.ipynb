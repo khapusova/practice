{
  "nbformat": 4,
  "nbformat_minor": 0,
  "metadata": {
    "colab": {
      "name": "Practice_5_KM_04_.ipynb",
      "provenance": [],
      "collapsed_sections": []
    },
    "kernelspec": {
      "name": "Python 3.8.5 32-bit",
      "display_name": "Python 3.8.5 32-bit",
      "metadata": {
        "interpreter": {
          "hash": "6d58817d7a36abfa3a827e4c983e24a2b2aeec7ad475bf8b9406aeab7b3302d2"
        }
      }
    }
  },
  "cells": [
    {
      "cell_type": "markdown",
      "metadata": {
        "id": "FMqboNwO4rVs"
      },
      "source": [
        "# **Курс \"Програмування на мові Python\"**\n",
        "\n",
        "##### Викладачі:\n",
        "##### Борисенко Павло Борисович\n",
        "##### Щьоголєв Максим Олегович\n"
      ]
    },
    {
      "cell_type": "markdown",
      "metadata": {
        "id": "A2T6MigL5Z06"
      },
      "source": [
        "## **Практичне зайняття №5**\n",
        "### Тема: \"Робота з кортежами, множинами та словниками\""
      ]
    },
    {
      "cell_type": "markdown",
      "metadata": {
        "id": "4AV5CN7N4xja"
      },
      "source": [
        "### **Завдання 1 (1,5 бали)**\n",
        "\n",
        "Напишіть програму, яка визначала б, чи можна з літер однієї фрази скласти іншу фразу. Наприклад:\n",
        "\n",
        "\"William Shakespeare\" -> \"A small spark\"\n",
        "\n",
        "Перша фраза містить 11 унікальних літер (хоча деякі повторюються): a, e, h, i, k, l, m, p, r, s та w. Друга фраза містить 7 унікальних літер: a, k, l, m, p, r та s. Кожна з літер другої фрази зустрічається принаймні один раз у першій фразі.\n",
        "\n",
        "1. Обидві фрази повинні вводитись користувачем з клавіатури.\n",
        "\n",
        "2. Скористайтесь властивістю множин у мові програмування Python для виділення колекції унікальних літер.\n",
        "\n",
        "3. У множину не повинні потрапити пробіли, розділові знаки та інші символи, що не є літерами (скористайтесь методом **isalpha()**). Також усі літери мають бути переведені в нижній або верхній регістр (скористайтесь методами **lower()** або **upper()**).\n",
        "\n",
        "4. Зверніть увагу на те, що літери як в першій, так і вдругій фразі можуть повторюватись. Однак множина унікальних літер другої фрази повинна бути підмножиною множини унікальних літер першої фрази.\n",
        "\n",
        "5. У складі змістовного повідомлення програма повинна виводити множину літер першої фрази, множину літер другої фрази, а також змістовне повідомлення про те, чи можна скласти з літер першої фрази другу фразу."
      ]
    },
    {
      "cell_type": "code",
      "metadata": {
        "id": "9Mesp1jV4xjb"
      },
      "source": [
        "string1= input('enter str1:')\n",
        "string2 = input('enter str2:')\n",
        "string1=string1.lower()\n",
        "string2=string2.lower()\n",
        "if not string1.isalpha():\n",
        "    i1=set()\n",
        "    for i in string1:\n",
        "        if i.isalpha():\n",
        "            i1.add(i)\n",
        "        else:\n",
        "            continue\n",
        "else:\n",
        "    i1=set(string1)\n",
        "if not string2.isalpha():\n",
        "    i2 = set()\n",
        "    for i in string2:\n",
        "        if i.isalpha():\n",
        "            i2.add(i)\n",
        "        else:\n",
        "            continue\n",
        "else:\n",
        "    i2 = set(string2)\n",
        "if i1.issuperset(i2)== True:\n",
        "    print(i1, '\\n', i2, '\\n','new phraze can be made.')\n",
        "else:\n",
        "    print(i1, '\\n', i2, '\\n', 'new phraze cannot be made.')"
      ],
      "execution_count": 4,
      "outputs": [
        {
          "output_type": "stream",
          "name": "stdout",
          "text": [
            "{'h', 'k', 'b', 't', 'd', 'f', 'l', 'n'} \n {'g', 'f', 'j', 'n'} \n new phraze cannot be made.\n"
          ]
        }
      ]
    },
    {
      "cell_type": "markdown",
      "metadata": {
        "id": "y7pQFLvSCkym"
      },
      "source": [
        "### **Завдання 2 (1,5 бали)**\n",
        "\n",
        "У Канаді поштові індекси мають специфічну форму. Вони складаються з трьох символів. Перший символ вказує на провінцію. Другий символ вказує на те, у міській чи у сільській місцевості знаходиться адресат. Якщо у сільській місцевості - це 0. Якщо у міській - будь-яка інша цифра. Провінція позначається великою латинською літерою. Повний перелік провінцій на літер, що їм відповідають, подано у таблиці.\n",
        "\n",
        "Провінція | Перший символ поштового індекса\n",
        "--- | ---\n",
        "Newfoundland | A\n",
        "Nova Scotia | B\n",
        "Prince Edward Island | C\n",
        "New Brunswick | E\n",
        "Quebec | G, H and J\n",
        "Ontario | K, L, M, N and P\n",
        "Manitoba | R\n",
        "Saskatchewan | S\n",
        "Alberta | T\n",
        "British Columbia | V\n",
        "Nunavut | X\n",
        "Northwest Territories | X\n",
        "Yukon | Y\n",
        "\n",
        "Напишіть програму, яка зчитує поштовий індекс, введений користувачем, та виводить у складі змістовного повідомлення провінцію адресата та інформацію про те, у міській чи у сільській місцевості він знаходиться. Наприклад, якщо користувач вводить T2N, програма повинна визначити, що адресат знаходиться у міській місцевості провінції Альберта. Якщо він вводить X0A, адресат знаходиться у сільській місцевості провінції Нанавут або Північних Територій (зверніть увагу на те, що літера X повторюється для двох провінцій). Третя літера для нас неважлива. Зауважте, що літери D, F, I, O, Q, U, W, та Z не позначають жодної з провінцій Канади.\n",
        "\n",
        "1. Скористайтесь словником для збереження усіх провінцій та літер, що їм відповідають.\n",
        "\n",
        "2. Користувач повинен ввести рівно 3 символи. Перший і останній символи мають бути літерами, другий - цифрою. Для перевірки скористайтесь методами **isalpha()** та **isdigit()**. Якщо користувач введе не 3 символи, а більше чи менше, або ж послідовність літер та цифр не буде співпадати з шаблоном, програма має вивести повідомлення про помилку.\n",
        "\n",
        "3. Програма повинна приймати літери як верхнього, так і нижнього регістрів. Однак виводити - лише у верхньому регістрі (скористайтесь методами **lower()** або **upper()**)."
      ]
    },
    {
      "cell_type": "code",
      "metadata": {
        "id": "EVY800vg4xjg"
      },
      "source": [
        "Slov = {'A':  'Newfoundland',\n",
        "'B ' : 'Nova Scotia',\n",
        "'C': 'Prince Edward Island',\n",
        "'E' :' New Brunswick',\n",
        "'G' : ' Quebec',\n",
        "'H' : ' Quebec',\n",
        "'J': ' Quebec',\n",
        "'K':'Ontario',\n",
        "'L': 'Ontario',\n",
        "'M': 'Ontario',\n",
        "'N' : 'Ontario',\n",
        "'P': 'Ontario',\n",
        "'R': 'Manitoba',\n",
        "'S': 'Saskatchewan',\n",
        "'T': 'Alberta',\n",
        "'V': 'British Columbia',\n",
        "'X' :['Nunavut',    'Northwest Territories'],\n",
        "'Y': 'Yukon' }\n",
        "vvod=input('enter data:')\n",
        "vvod=vvod.upper()\n",
        "l=len(vvod)\n",
        "if l>3:\n",
        "    print('error(length)')\n",
        "else:\n",
        "    ls=list()\n",
        "    if vvod[0].isalpha():\n",
        "        ls.append(vvod[0])\n",
        "        if vvod[1].isdigit():\n",
        "            ls.append(vvod[1])\n",
        "            if vvod[2].isalpha():\n",
        "                ls.append(vvod[2])\n",
        "                if (ls[0] in Slov) == True:\n",
        "                    if ls[1]==0:\n",
        "                        print(\"Countryside. Province\",Slov[ls[0]])\n",
        "                    else:\n",
        "                        print(\"City. Province\", Slov[ls[0]])\n",
        "                else:\n",
        "                    print('There is no such a province')\n",
        "            else:\n",
        "                print('error')\n",
        "        else:\n",
        "            print('error')\n",
        "    else:\n",
        "        print('error')\n",
        "\n"
      ],
      "execution_count": 6,
      "outputs": [
        {
          "output_type": "stream",
          "name": "stdout",
          "text": [
            "City. Province Ontario\n"
          ]
        }
      ]
    },
    {
      "cell_type": "code",
      "execution_count": null,
      "metadata": {},
      "outputs": [],
      "source": []
    }
  ]
}